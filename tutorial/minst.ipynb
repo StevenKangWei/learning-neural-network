{
 "metadata": {
  "language_info": {
   "codemirror_mode": {
    "name": "ipython",
    "version": 3
   },
   "file_extension": ".py",
   "mimetype": "text/x-python",
   "name": "python",
   "nbconvert_exporter": "python",
   "pygments_lexer": "ipython3",
   "version": 3
  },
  "orig_nbformat": 2,
  "kernelspec": {
   "name": "python_defaultSpec_1596786452385",
   "display_name": "Python 3.7.2 64-bit ('env37': virtualenv)"
  }
 },
 "nbformat": 4,
 "nbformat_minor": 2,
 "cells": [
  {
   "cell_type": "code",
   "execution_count": null,
   "metadata": {},
   "outputs": [],
   "source": [
    "import torch\n",
    "import torchvision\n",
    "from torchvision import transforms, datasets\n",
    "\n",
    "root = \"../mnist\"\n",
    "train_data = datasets.MNIST(\n",
    "    root=root,\n",
    "    train=True,\n",
    "    download=True,\n",
    "    transform=transforms.Compose([transforms.ToTensor()])\n",
    "    ) \n",
    "\n",
    "test_data = datasets.MNIST(\n",
    "    root=root,\n",
    "    train=False,\n",
    "    download=True,\n",
    "    transform=transforms.Compose([transforms.ToTensor()])\n",
    "    ) \n",
    "\n",
    "trainset = torch.utils.data.DataLoader(train_data, batch_size=1, shuffle=True)\n",
    "testset = torch.utils.data.DataLoader(test_data, batch_size=1, shuffle=True)"
   ]
  },
  {
   "cell_type": "code",
   "execution_count": null,
   "metadata": {},
   "outputs": [],
   "source": [
    "import numpy\n",
    "import scipy.special\n",
    "\n",
    "class NeuralNetwork(object):\n",
    "\n",
    "    def __init__(self, input_nodes, hidden_nodes, output_nodes, learning_rate):\n",
    "        self.inodes = input_nodes\n",
    "        self.hnodes = hidden_nodes\n",
    "        self.onodes = output_nodes\n",
    "        self.lr = learning_rate\n",
    "\n",
    "        self.wih = numpy.random.normal(0.0, pow(self.hnodes, -0.5), (self.hnodes, self.inodes))\n",
    "        self.who = numpy.random.normal(0.0, pow(self.onodes, -0.5), (self.onodes, self.hnodes))\n",
    "\n",
    "    def activate_function(self, inputs):\n",
    "        return scipy.special.expit(inputs)\n",
    "\n",
    "    def train(self, inputs, targets):\n",
    "        inputs = numpy.array(inputs, ndmin=2).T\n",
    "        targets = numpy.array(targets, ndmin=2).T\n",
    "\n",
    "        hidden_inputs = numpy.dot(self.wih, inputs)\n",
    "\n",
    "        hidden_outputs = self.activate_function(hidden_inputs)\n",
    "\n",
    "        final_inputs = numpy.dot(self.who, hidden_outputs)\n",
    "\n",
    "        final_outputs = self.activate_function(final_inputs)\n",
    "\n",
    "        output_errors = targets - final_outputs\n",
    "\n",
    "        hidden_errors = numpy.dot(self.who.T, output_errors)\n",
    "\n",
    "        self.who += self.lr * numpy.dot(\n",
    "            (output_errors * final_outputs * (1.0 - final_outputs)), \n",
    "            numpy.transpose(hidden_outputs)\n",
    "        )\n",
    "        \n",
    "        self.wih += self.lr * numpy.dot(\n",
    "            (hidden_errors * hidden_outputs * (1.0 - hidden_outputs)), \n",
    "            numpy.transpose(inputs)\n",
    "        )\n",
    "\n",
    "    def query(self, inputs):\n",
    "        inputs = numpy.array(inputs, ndmin=2).T\n",
    "\n",
    "        hidden_inputs = numpy.dot(self.wih, inputs)\n",
    "\n",
    "        hidden_outputs = self.activate_function(hidden_inputs)\n",
    "\n",
    "        final_inputs = numpy.dot(self.who, hidden_outputs)\n",
    "\n",
    "        final_outputs = self.activate_function(final_inputs)\n",
    "\n",
    "        outputs = {\n",
    "            index: var[0] for index, var in enumerate(final_outputs)\n",
    "        }\n",
    "        outputs = sorted(outputs.items(), key=lambda e: e[1], reverse=True)[0][0]\n",
    "        return outputs\n"
   ]
  },
  {
   "cell_type": "code",
   "execution_count": null,
   "metadata": {},
   "outputs": [],
   "source": [
    "input_nodes = 28 * 28 # image size\n",
    "hidden_nodes = 100\n",
    "output_nodes = 10\n",
    "\n",
    "learning_rate = 0.35"
   ]
  },
  {
   "cell_type": "code",
   "execution_count": null,
   "metadata": {},
   "outputs": [],
   "source": [
    "n = NeuralNetwork(input_nodes, hidden_nodes, output_nodes, learning_rate)"
   ]
  },
  {
   "cell_type": "code",
   "execution_count": null,
   "metadata": {
    "tags": []
   },
   "outputs": [],
   "source": [
    "import matplotlib.pyplot as plt\n",
    "from tqdm import tqdm\n",
    "\n",
    "for data in tqdm(trainset):\n",
    "    inputs, results = data\n",
    "\n",
    "    image = inputs[0][0]\n",
    "    result = results[0]\n",
    "    inputs = image.reshape(len(image) ** 2)\n",
    "    \n",
    "    targets = numpy.zeros(output_nodes) + 0.01\n",
    "    targets[int(result)] = 0.99\n",
    "    n.train(inputs, targets)\n"
   ]
  },
  {
   "cell_type": "code",
   "execution_count": null,
   "metadata": {
    "tags": []
   },
   "outputs": [],
   "source": [
    "total = len(testset)\n",
    "count = 0\n",
    "\n",
    "for data in tqdm(testset):\n",
    "    inputs, results = data\n",
    "\n",
    "    image = inputs[0][0]\n",
    "    result = int(results)\n",
    "    inputs = image.reshape(len(image) ** 2)\n",
    "    outputs = n.query(inputs)\n",
    "    if outputs == result:\n",
    "        count += 1\n",
    "\n",
    "print('\\n', count, total, count / total)\n"
   ]
  },
  {
   "cell_type": "code",
   "execution_count": null,
   "metadata": {},
   "outputs": [],
   "source": []
  }
 ]
}