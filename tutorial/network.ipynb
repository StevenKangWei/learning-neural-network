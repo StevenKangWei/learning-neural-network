{
 "metadata": {
  "language_info": {
   "codemirror_mode": {
    "name": "ipython",
    "version": 3
   },
   "file_extension": ".py",
   "mimetype": "text/x-python",
   "name": "python",
   "nbconvert_exporter": "python",
   "pygments_lexer": "ipython3",
   "version": 3
  },
  "orig_nbformat": 2,
  "kernelspec": {
   "name": "python_defaultSpec_1596778558731",
   "display_name": "Python 3.7.2 64-bit ('env37': virtualenv)"
  }
 },
 "nbformat": 4,
 "nbformat_minor": 2,
 "cells": [
  {
   "cell_type": "code",
   "execution_count": null,
   "metadata": {},
   "outputs": [],
   "source": [
    "import numpy\n",
    "import scipy.special\n",
    "\n",
    "class NeuralNetwork(object):\n",
    "\n",
    "    def __init__(self, inodes, hnodes, onodes, learning_rate):\n",
    "        self.inodes = inodes\n",
    "        self.hnodes = hnodes\n",
    "        self.onodes = onodes\n",
    "        self.lr = learning_rate\n",
    "\n",
    "        # self.wih = numpy.random.rand(self.hnodes, self.inodes) - 0.5\n",
    "        # self.who = numpy.random.rand(self.onodes, self.hnodes) - 0.5\n",
    "\n",
    "        self.wih = numpy.random.normal(0.0, pow(self.hnodes, -0.5), (self.hnodes, self.inodes))\n",
    "        self.who = numpy.random.normal(0.0, pow(self.onodes, -0.5), (self.onodes, self.hnodes))\n",
    "        pass\n",
    "\n",
    "    def train(self, inputs, targets):\n",
    "        inputs = numpy.array(inputs, ndmin=2).T\n",
    "\n",
    "        hidden_inputs = numpy.dot(self.wih, inputs)\n",
    "        hidden_outputs = self.activate_function(hidden_inputs)\n",
    "        final_inputs = numpy.dot(self.who, hidden_outputs)\n",
    "        final_outputs = self.activate_function(final_inputs)\n",
    "\n",
    "        targets = numpy.array(targets, ndmin=2).T\n",
    "\n",
    "        output_errors = targets - final_outputs\n",
    "        hidden_errors = numpy.dot(self.who.T, output_errors)\n",
    "\n",
    "        self.who += self.lr * numpy.dot(\n",
    "            (output_errors * final_outputs * (1 - final_outputs)), \n",
    "            numpy.transpose(hidden_outputs)\n",
    "        )\n",
    "\n",
    "        self.who += self.lr * numpy.dot(\n",
    "            (hidden_errors * hidden_outputs * (1 - hidden_outputs)), \n",
    "            numpy.transpose(inputs)\n",
    "        )\n",
    "        pass\n",
    "    \n",
    "    def query(self, inputs: list):\n",
    "        inputs = numpy.array(inputs, ndmin=2).T\n",
    "\n",
    "        hidden_inputs = numpy.dot(self.wih, inputs)\n",
    "        hidden_outputs = self.activate_function(hidden_inputs)\n",
    "        final_inputs = numpy.dot(self.who, hidden_outputs)\n",
    "        final_outputs = self.activate_function(final_inputs)\n",
    "        return final_outputs \n",
    "\n",
    "    def activate_function(self, inputs):\n",
    "        return scipy.special.expit(inputs)\n"
   ]
  },
  {
   "cell_type": "code",
   "execution_count": null,
   "metadata": {},
   "outputs": [],
   "source": [
    "input_nodes = 3\n",
    "hidden_nodes = 3\n",
    "output_nodes = 3\n",
    "\n",
    "learning_rate = 0.3\n",
    "\n",
    "n = NeuralNetwork(input_nodes, hidden_nodes, output_nodes, learning_rate)"
   ]
  },
  {
   "cell_type": "code",
   "execution_count": null,
   "metadata": {},
   "outputs": [],
   "source": [
    "n.query([1, 0.5, -1.2])"
   ]
  }
 ]
}